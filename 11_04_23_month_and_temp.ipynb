{
  "nbformat": 4,
  "nbformat_minor": 0,
  "metadata": {
    "colab": {
      "provenance": [],
      "authorship_tag": "ABX9TyMmuKKvsaDNvnubrGLUWLTU",
      "include_colab_link": true
    },
    "kernelspec": {
      "name": "python3",
      "display_name": "Python 3"
    },
    "language_info": {
      "name": "python"
    }
  },
  "cells": [
    {
      "cell_type": "markdown",
      "metadata": {
        "id": "view-in-github",
        "colab_type": "text"
      },
      "source": [
        "<a href=\"https://colab.research.google.com/github/suraj3004200/data-science/blob/main/11_04_23_month_and_temp.ipynb\" target=\"_parent\"><img src=\"https://colab.research.google.com/assets/colab-badge.svg\" alt=\"Open In Colab\"/></a>"
      ]
    },
    {
      "cell_type": "code",
      "execution_count": 2,
      "metadata": {
        "id": "7P1Dj0pnx8Ic"
      },
      "outputs": [],
      "source": [
        "import pandas as pd\n",
        "temp1=pd.Series([32,45,66,35,67,54,40])\n",
        "temp2=pd.Series([82,95,68,85,97,74,44])\n",
        "temp3=pd.Series([102,95,66,35,87,64,100])\n",
        "temp4=pd.Series([72,105,77,83,97,90,88])\n",
        "                                     "
      ]
    },
    {
      "cell_type": "code",
      "source": [
        "temp1.mean()"
      ],
      "metadata": {
        "colab": {
          "base_uri": "https://localhost:8080/"
        },
        "id": "eYlcCShN0QJv",
        "outputId": "cd1a049f-73dd-45ea-d0c3-66928011699b"
      },
      "execution_count": 3,
      "outputs": [
        {
          "output_type": "execute_result",
          "data": {
            "text/plain": [
              "48.42857142857143"
            ]
          },
          "metadata": {},
          "execution_count": 3
        }
      ]
    },
    {
      "cell_type": "code",
      "source": [
        "temp2.mean()"
      ],
      "metadata": {
        "colab": {
          "base_uri": "https://localhost:8080/"
        },
        "id": "LSZo3-4A0UUN",
        "outputId": "8a5a1af4-1dcd-49df-bebd-a8ec9353f679"
      },
      "execution_count": 4,
      "outputs": [
        {
          "output_type": "execute_result",
          "data": {
            "text/plain": [
              "77.85714285714286"
            ]
          },
          "metadata": {},
          "execution_count": 4
        }
      ]
    },
    {
      "cell_type": "code",
      "source": [
        "temp3.mean()"
      ],
      "metadata": {
        "colab": {
          "base_uri": "https://localhost:8080/"
        },
        "id": "wqBVeeqm0W8m",
        "outputId": "a22a1f5a-2fa4-4ad8-cde4-8c74a60079a9"
      },
      "execution_count": 5,
      "outputs": [
        {
          "output_type": "execute_result",
          "data": {
            "text/plain": [
              "78.42857142857143"
            ]
          },
          "metadata": {},
          "execution_count": 5
        }
      ]
    },
    {
      "cell_type": "code",
      "source": [
        "temp4.mean()"
      ],
      "metadata": {
        "colab": {
          "base_uri": "https://localhost:8080/"
        },
        "id": "89bGPPzB0Yu9",
        "outputId": "fc95bba7-04a7-4a9b-9fa5-d9d5ee143413"
      },
      "execution_count": 6,
      "outputs": [
        {
          "output_type": "execute_result",
          "data": {
            "text/plain": [
              "87.42857142857143"
            ]
          },
          "metadata": {},
          "execution_count": 6
        }
      ]
    },
    {
      "cell_type": "code",
      "source": [
        "temp_all=pd.concat([temp1,temp2,temp2,temp4])\n",
        "temp_all.mean()"
      ],
      "metadata": {
        "colab": {
          "base_uri": "https://localhost:8080/"
        },
        "id": "aoUtK1KW0a1V",
        "outputId": "6bb3612d-e1fb-413f-f9be-ef1ce814ea8d"
      },
      "execution_count": 10,
      "outputs": [
        {
          "output_type": "execute_result",
          "data": {
            "text/plain": [
              "72.89285714285714"
            ]
          },
          "metadata": {},
          "execution_count": 10
        }
      ]
    }
  ]
}