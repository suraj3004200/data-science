{
  "nbformat": 4,
  "nbformat_minor": 0,
  "metadata": {
    "colab": {
      "provenance": [],
      "authorship_tag": "ABX9TyOf5pvZFTq5/+jCsoWFkUmk",
      "include_colab_link": true
    },
    "kernelspec": {
      "name": "python3",
      "display_name": "Python 3"
    },
    "language_info": {
      "name": "python"
    }
  },
  "cells": [
    {
      "cell_type": "markdown",
      "metadata": {
        "id": "view-in-github",
        "colab_type": "text"
      },
      "source": [
        "<a href=\"https://colab.research.google.com/github/suraj3004200/data-science/blob/main/Copy_of_program_7_mean_and_median_.ipynb\" target=\"_parent\"><img src=\"https://colab.research.google.com/assets/colab-badge.svg\" alt=\"Open In Colab\"/></a>"
      ]
    },
    {
      "cell_type": "code",
      "execution_count": null,
      "metadata": {
        "colab": {
          "base_uri": "https://localhost:8080/"
        },
        "id": "QnxhgAepk7cc",
        "outputId": "2371cd76-e0dc-4da0-ab7a-0182118c781e"
      },
      "outputs": [
        {
          "output_type": "stream",
          "name": "stdout",
          "text": [
            "Mean: 49.833333333333336\n"
          ]
        }
      ],
      "source": [
        "#mean wihtout python library\n",
        "l1=[13,14,22,67,89,94]\n",
        "list_length=len(l1)\n",
        "\n",
        "sum_list=sum(l1)\n",
        "sum_list\n",
        "\n",
        "mean_list=sum_list/list_length\n",
        "print(\"Mean:\",mean_list)"
      ]
    },
    {
      "cell_type": "code",
      "source": [
        "l1[3]"
      ],
      "metadata": {
        "colab": {
          "base_uri": "https://localhost:8080/"
        },
        "id": "c_BH2Epdphy8",
        "outputId": "4e99dd4e-7389-4c6c-b71b-adb0774548f7"
      },
      "execution_count": null,
      "outputs": [
        {
          "output_type": "execute_result",
          "data": {
            "text/plain": [
              "67"
            ]
          },
          "metadata": {},
          "execution_count": 7
        }
      ]
    },
    {
      "cell_type": "code",
      "source": [
        "#median wihtout python library\n",
        "if(list_length%2!=0):\n",
        "      median_lst=int(((list_length+1)/2))\n",
        "      print(\"Median:\",l1[median_lst]) \n",
        "else:\n",
        "      median_lst=(l1[int((list_length/2))-1]+l1[int(((list_length/2)+1))-1])/2\n",
        "      print(\"Median:\",median_lst)\n",
        "   \n",
        "  "
      ],
      "metadata": {
        "colab": {
          "base_uri": "https://localhost:8080/"
        },
        "id": "RTNmh9nZmbB1",
        "outputId": "442af7f3-9871-4b48-8608-aa0ab63b9ded"
      },
      "execution_count": null,
      "outputs": [
        {
          "output_type": "stream",
          "name": "stdout",
          "text": [
            "Median: 44.5\n"
          ]
        }
      ]
    }
  ]
}