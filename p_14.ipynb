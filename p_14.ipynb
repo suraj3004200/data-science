{
  "nbformat": 4,
  "nbformat_minor": 0,
  "metadata": {
    "colab": {
      "provenance": [],
      "authorship_tag": "ABX9TyMQEhcJQoL8+7SPXZFUu/+D",
      "include_colab_link": true
    },
    "kernelspec": {
      "name": "python3",
      "display_name": "Python 3"
    },
    "language_info": {
      "name": "python"
    }
  },
  "cells": [
    {
      "cell_type": "markdown",
      "metadata": {
        "id": "view-in-github",
        "colab_type": "text"
      },
      "source": [
        "<a href=\"https://colab.research.google.com/github/suraj3004200/data-science/blob/main/p_14.ipynb\" target=\"_parent\"><img src=\"https://colab.research.google.com/assets/colab-badge.svg\" alt=\"Open In Colab\"/></a>"
      ]
    },
    {
      "cell_type": "code",
      "execution_count": 1,
      "metadata": {
        "id": "CJCXLVmf-ycJ"
      },
      "outputs": [],
      "source": [
        "import pandas as pd\n",
        "students=[[\"SURAJ\",19,50],[\"ROHAN\",20,102],[\"PRATHAM\",20,70],[\"SARTHAK\",21,65],[\"ABHISHEK\",19,45]]\n",
        "cols=[\"NAME\",\"AGE\",\"WEIGHT\"]\n",
        "df=pd.DataFrame(students,columns=cols)\n"
      ]
    },
    {
      "cell_type": "code",
      "source": [
        "print(df)"
      ],
      "metadata": {
        "colab": {
          "base_uri": "https://localhost:8080/"
        },
        "id": "1Gy1M6Qv_gpt",
        "outputId": "c2c00d39-bce0-4014-a774-19d9d431c783"
      },
      "execution_count": 2,
      "outputs": [
        {
          "output_type": "stream",
          "name": "stdout",
          "text": [
            "       NAME  AGE  WEIGHT\n",
            "0     SURAJ   19      50\n",
            "1     ROHAN   20     102\n",
            "2   PRATHAM   20      70\n",
            "3   SARTHAK   21      65\n",
            "4  ABHISHEK   19      45\n"
          ]
        }
      ]
    },
    {
      "cell_type": "code",
      "source": [
        "print(df[0:2])"
      ],
      "metadata": {
        "colab": {
          "base_uri": "https://localhost:8080/"
        },
        "id": "27ioEaan_n5v",
        "outputId": "657456b4-18cb-47f1-99f6-9e2d62d939d0"
      },
      "execution_count": 4,
      "outputs": [
        {
          "output_type": "stream",
          "name": "stdout",
          "text": [
            "    NAME  AGE  WEIGHT\n",
            "0  SURAJ   19      50\n",
            "1  ROHAN   20     102\n"
          ]
        }
      ]
    },
    {
      "cell_type": "code",
      "source": [
        "print(df.head(2))"
      ],
      "metadata": {
        "colab": {
          "base_uri": "https://localhost:8080/"
        },
        "id": "FzC7qXmr_701",
        "outputId": "065fa7fd-892b-4d1f-e2ca-f4b9d7cff221"
      },
      "execution_count": 5,
      "outputs": [
        {
          "output_type": "stream",
          "name": "stdout",
          "text": [
            "    NAME  AGE  WEIGHT\n",
            "0  SURAJ   19      50\n",
            "1  ROHAN   20     102\n"
          ]
        }
      ]
    },
    {
      "cell_type": "code",
      "source": [
        "print(df.tail(2))"
      ],
      "metadata": {
        "colab": {
          "base_uri": "https://localhost:8080/"
        },
        "id": "nVDkJQDwAA11",
        "outputId": "2f1e80b4-63c5-4807-a82a-1920f569e90a"
      },
      "execution_count": 6,
      "outputs": [
        {
          "output_type": "stream",
          "name": "stdout",
          "text": [
            "       NAME  AGE  WEIGHT\n",
            "3   SARTHAK   21      65\n",
            "4  ABHISHEK   19      45\n"
          ]
        }
      ]
    },
    {
      "cell_type": "code",
      "source": [
        "print(df.iloc[2:5])"
      ],
      "metadata": {
        "colab": {
          "base_uri": "https://localhost:8080/"
        },
        "id": "OXfRuGLDAQq9",
        "outputId": "91770fc5-96f0-4590-f32c-b29433f53573"
      },
      "execution_count": 7,
      "outputs": [
        {
          "output_type": "stream",
          "name": "stdout",
          "text": [
            "       NAME  AGE  WEIGHT\n",
            "2   PRATHAM   20      70\n",
            "3   SARTHAK   21      65\n",
            "4  ABHISHEK   19      45\n"
          ]
        }
      ]
    }
  ]
}